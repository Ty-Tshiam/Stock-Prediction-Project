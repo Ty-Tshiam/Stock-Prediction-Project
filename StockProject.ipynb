{
 "cells": [
  {
   "cell_type": "markdown",
   "metadata": {},
   "source": [
    "# Stock Data Project \n",
    "Objective: Predict future stock prices (e.g., next day, week, or month) using historical data and external factors.\n",
    "\n",
    "Type of Prediction:\n",
    "\n",
    "Regression: Predict exact future prices.\n",
    "\n",
    "Classification: Predict price movement direction (up/down/stable)."
   ]
  },
  {
   "cell_type": "markdown",
   "metadata": {},
   "source": [
    "# Data Collection"
   ]
  },
  {
   "cell_type": "code",
   "execution_count": 1,
   "metadata": {},
   "outputs": [],
   "source": [
    "import pandas as pd\n",
    "import pyodbc\n"
   ]
  },
  {
   "cell_type": "markdown",
   "metadata": {},
   "source": [
    "* Data Retreival From Alpha Vantage\n",
    "\n",
    "API Key to Alpha Vantage (source for data): HPUL5XC5C1RFHRAQ"
   ]
  },
  {
   "cell_type": "code",
   "execution_count": 182,
   "metadata": {},
   "outputs": [
    {
     "name": "stdout",
     "output_type": "stream",
     "text": [
      "       timestamp    open     high     low   close    volume\n",
      "6336  1999-11-01   98.50   98.810   96.37   96.75   9551800\n",
      "6335  1999-11-02   96.75   96.810   93.69   94.81  11105400\n",
      "6334  1999-11-03   95.87   95.940   93.50   94.37  10369100\n",
      "6333  1999-11-04   94.44   94.440   90.00   91.56  16697600\n",
      "6332  1999-11-05   92.75   92.940   90.19   90.25  13737600\n",
      "...          ...     ...      ...     ...     ...       ...\n",
      "4     2025-01-02  221.82  222.490  217.60  219.94   2579498\n",
      "3     2025-01-03  220.55  223.660  220.55  222.65   3873578\n",
      "2     2025-01-06  223.00  224.350  220.75  222.67   2847128\n",
      "1     2025-01-07  223.35  226.711  222.83  223.96   3299701\n",
      "0     2025-01-08  223.91  224.900  220.83  223.18   2619768\n",
      "\n",
      "[6337 rows x 6 columns]\n"
     ]
    }
   ],
   "source": [
    "function = 'TIME_SERIES_DAILY'\n",
    "symbol = 'IBM'\n",
    "outputsize = 'full'\n",
    "datatype = 'csv'\n",
    "apikey = 'HPUL5XC5C1RFHRAQ'\n",
    "\n",
    "\n",
    "url = f'https://www.alphavantage.co/query?function={function}&symbol={symbol}&outputsize={outputsize}&apikey={apikey}&datatype={datatype}'\n",
    "df = pd.read_csv(url)\n",
    "df.sort_values(by = 'timestamp', inplace = True)\n",
    "print(df)"
   ]
  },
  {
   "cell_type": "markdown",
   "metadata": {},
   "source": [
    "# Data Cleaning \n",
    "\n",
    "Using Data Wrangler the data seems pretty clean but to ensure data integrity, I'm going to use some data cleaning methods using pandas.\n",
    "\n",
    "We have to ensure there's no missing data, a consistent format, removal of unwanted observations, incorrect data, and removal of duplicates. We don't need to manage outliers."
   ]
  },
  {
   "cell_type": "markdown",
   "metadata": {},
   "source": [
    "* Removal of rows with missing data"
   ]
  },
  {
   "cell_type": "code",
   "execution_count": 183,
   "metadata": {},
   "outputs": [],
   "source": [
    "df = df.dropna()"
   ]
  },
  {
   "cell_type": "markdown",
   "metadata": {},
   "source": [
    "* Ensures that the dates are in the correct format"
   ]
  },
  {
   "cell_type": "code",
   "execution_count": 184,
   "metadata": {},
   "outputs": [],
   "source": [
    "df['timestamp'] = pd.to_datetime(df['timestamp'])"
   ]
  },
  {
   "cell_type": "markdown",
   "metadata": {},
   "source": [
    "* Ensures that there is no wrong data"
   ]
  },
  {
   "cell_type": "code",
   "execution_count": 185,
   "metadata": {},
   "outputs": [],
   "source": [
    "columns = list(df.columns)\n",
    "columns.remove('timestamp')\n",
    "columns.remove('volume')\n",
    "\n",
    "# Ensure that the columns are of the correct data type\n",
    "for column in columns:\n",
    "    df[column] = pd.to_numeric(df[column], errors='coerce', downcast='float')\n",
    "\n",
    "df['volume'] = pd.to_numeric(df['volume'], errors='coerce', downcast='integer')\n",
    "\n",
    "#Make sure that all numbers are positive, if not make it positive\n",
    "columns.append('volume')\n",
    "for column in columns:\n",
    "    for i in df.index:\n",
    "        if df.loc[i, column] < 0:\n",
    "            df.loc[i, column] = df.loc[i, column] * -1"
   ]
  },
  {
   "cell_type": "markdown",
   "metadata": {},
   "source": [
    "* Removing duplicates "
   ]
  },
  {
   "cell_type": "code",
   "execution_count": 186,
   "metadata": {},
   "outputs": [],
   "source": [
    "df.drop_duplicates(inplace = True)"
   ]
  },
  {
   "cell_type": "markdown",
   "metadata": {},
   "source": [
    "# Data Transforming\n",
    "\n",
    "* Slight formating for column names"
   ]
  },
  {
   "cell_type": "code",
   "execution_count": 187,
   "metadata": {},
   "outputs": [
    {
     "name": "stdout",
     "output_type": "stream",
     "text": [
      "           Date       Open       High        Low      Close    Volume\n",
      "6336 1999-11-01  98.500000  98.809998  96.370003  96.750000   9551800\n",
      "6335 1999-11-02  96.750000  96.809998  93.690002  94.809998  11105400\n",
      "6334 1999-11-03  95.870003  95.940002  93.500000  94.370003  10369100\n",
      "6333 1999-11-04  94.440002  94.440002  90.000000  91.559998  16697600\n",
      "6332 1999-11-05  92.750000  92.940002  90.190002  90.250000  13737600\n"
     ]
    }
   ],
   "source": [
    "df.rename(columns = {'timestamp':'Date', 'open':'Open', 'high':'High', 'low':'Low', 'close':'Close', 'volume':'Volume'}, inplace = True)\n",
    "print(df.head())"
   ]
  },
  {
   "cell_type": "markdown",
   "metadata": {},
   "source": [
    "# Data Loading \n",
    "\n",
    "* Loading the data into the SQL Database provided by the cloud service Azure. This only needs to happen once."
   ]
  },
  {
   "cell_type": "code",
   "execution_count": 9,
   "metadata": {},
   "outputs": [
    {
     "name": "stdout",
     "output_type": "stream",
     "text": [
      "Connected to Azure SQL Database!\n",
      "Data inserting is a success!\n"
     ]
    }
   ],
   "source": [
    "server = 'dahomey.database.windows.net'\n",
    "database = 'Stock Data'\n",
    "username = 'ttshiamala'\n",
    "password = 'Bear8486!?'\n",
    "driver = '{ODBC Driver 18 for SQL Server}'\n",
    "\n",
    "# Connect to Azure SQL\n",
    "connection_string = f\"DRIVER={driver};SERVER={server};PORT=1433;DATABASE={database};UID={username};PWD={password}\"\n",
    "conn = pyodbc.connect(connection_string)\n",
    "cursor = conn.cursor()\n",
    "print(\"Connected to Azure SQL Database!\")\n",
    "try:\n",
    "    cursor.execute('TRUNCATE TABLE StockPrices')\n",
    "    conn.commit()\n",
    "    for index, row in df.iterrows():\n",
    "        cursor.execute(\n",
    "            \"\"\"\n",
    "            INSERT INTO StockPrices ([Date], [Open], [High], [Low], [Close], [Volume]) \n",
    "            VALUES (?, ?, ?, ?, ?, ?)\n",
    "            \"\"\",\n",
    "            row.Date, row.Open, row.High, row.Low, row.Close, row.Volume\n",
    "    )\n",
    "except pyodbc.IntegrityError as e:\n",
    "    print(e)\n",
    "\n",
    "\n",
    "conn.commit()\n",
    "cursor.close()\n",
    "conn.close()\n",
    "print('Data inserting is a success!')"
   ]
  },
  {
   "cell_type": "markdown",
   "metadata": {},
   "source": [
    "# More Data \n",
    "\n",
    "* This is where I will be collecting more data for the AI to learn from as well as do some feature engineering. A lot of repeated steps for previous."
   ]
  },
  {
   "cell_type": "code",
   "execution_count": 10,
   "metadata": {},
   "outputs": [
    {
     "name": "stdout",
     "output_type": "stream",
     "text": [
      "    ex_dividend_date declaration_date record_date payment_date amount\n",
      "0         2024-11-12       2024-10-30  2024-11-12   2024-12-10   1.67\n",
      "1         2024-08-09       2024-07-29  2024-08-09   2024-09-10   1.67\n",
      "2         2024-05-09       2024-04-30  2024-05-10   2024-06-10   1.67\n",
      "3         2024-02-08       2024-01-30  2024-02-09   2024-03-09   1.66\n",
      "4         2023-11-09       2023-10-30  2023-11-10   2023-12-09   1.66\n",
      "..               ...              ...         ...          ...    ...\n",
      "99        2000-02-08             None        None         None   0.12\n",
      "100       1999-11-08             None        None         None   0.12\n",
      "101       1999-08-06             None        None         None   0.12\n",
      "102       1999-05-06             None        None         None   0.24\n",
      "103       1999-02-08             None        None         None   0.22\n",
      "\n",
      "[104 rows x 5 columns]\n"
     ]
    }
   ],
   "source": [
    "import requests\n",
    "url = f'https://www.alphavantage.co/query?function=DIVIDENDS&symbol={symbol}&apikey={apikey}'\n",
    "\n",
    "r = requests.get(url)\n",
    "data = r.json()[\"data\"]\n",
    "\n",
    "df_div = pd.DataFrame(data)\n",
    "print(df_div)"
   ]
  },
  {
   "cell_type": "code",
   "execution_count": 11,
   "metadata": {},
   "outputs": [
    {
     "name": "stdout",
     "output_type": "stream",
     "text": [
      "  ex_dividend_date amount\n",
      "0       2024-11-12   1.67\n",
      "1       2024-08-09   1.67\n",
      "2       2024-05-09   1.67\n",
      "3       2024-02-08   1.66\n",
      "4       2023-11-09   1.66\n"
     ]
    }
   ],
   "source": [
    "df_div.drop(df_div.columns[1:4], axis = 1, inplace=True)\n",
    "print(df_div.head())"
   ]
  },
  {
   "cell_type": "code",
   "execution_count": 12,
   "metadata": {},
   "outputs": [
    {
     "name": "stdout",
     "output_type": "stream",
     "text": [
      "  effective_date split_factor\n",
      "0     2021-11-04       1.0460\n",
      "1     1999-05-27       2.0000\n"
     ]
    }
   ],
   "source": [
    "url = f'https://www.alphavantage.co/query?function=SPLITS&symbol={symbol}&apikey={apikey}'\n",
    "r = requests.get(url)\n",
    "data = r.json()[\"data\"]\n",
    "df_split = pd.DataFrame(data)\n",
    "\n",
    "print(df_split)"
   ]
  },
  {
   "cell_type": "code",
   "execution_count": 13,
   "metadata": {},
   "outputs": [
    {
     "name": "stdout",
     "output_type": "stream",
     "text": [
      "ex_dividend_date    datetime64[ns]\n",
      "amount                     float32\n",
      "dtype: object\n",
      "effective_date    datetime64[ns]\n",
      "split_factor             float32\n",
      "dtype: object\n"
     ]
    }
   ],
   "source": [
    "df_div['ex_dividend_date'] = pd.to_datetime(df_div['ex_dividend_date'])\n",
    "df_div['amount'] = pd.to_numeric(df_div['amount'], errors='coerce',downcast='float')\n",
    "\n",
    "df_split['effective_date'] = pd.to_datetime(df_split['effective_date'])\n",
    "df_split['split_factor'] = pd.to_numeric(df_split['split_factor'], errors='coerce', downcast ='float')\n",
    "\n",
    "print(df_div.dtypes)\n",
    "print(df_split.dtypes)"
   ]
  },
  {
   "cell_type": "code",
   "execution_count": 188,
   "metadata": {},
   "outputs": [
    {
     "name": "stdout",
     "output_type": "stream",
     "text": [
      "        Date        Open        High         Low       Close   Volume  \\\n",
      "4 2025-01-02  221.820007  222.490005  217.600006  219.940002  2579498   \n",
      "3 2025-01-03  220.550003  223.660004  220.550003  222.649994  3873578   \n",
      "2 2025-01-06  223.000000  224.350006  220.750000  222.669998  2847128   \n",
      "1 2025-01-07  223.350006  226.710999  222.830002  223.960007  3299701   \n",
      "0 2025-01-08  223.910004  224.899994  220.830002  223.179993  2619768   \n",
      "\n",
      "       SMA_10      SMA_50   SMA_100    SMA_200  \n",
      "4  222.148000  220.609401  216.6979  197.48890  \n",
      "3  222.395999  220.417401  217.0296  197.63545  \n",
      "2  222.270999  220.215800  217.3464  197.77900  \n",
      "1  222.331000  220.327201  217.6628  197.93930  \n",
      "0  222.456000  220.497401  217.9551  198.10100  \n"
     ]
    }
   ],
   "source": [
    "\n",
    "df['SMA_10'] = df['Close'].rolling(window = 10).mean()\n",
    "df['SMA_50'] = df['Close'].rolling(window = 50).mean()\n",
    "df['SMA_100'] = df['Close'].rolling(window = 100).mean()\n",
    "df['SMA_200'] = df['Close'].rolling(window = 200).mean()\n",
    "print(df.tail())"
   ]
  },
  {
   "cell_type": "code",
   "execution_count": 189,
   "metadata": {},
   "outputs": [
    {
     "name": "stdout",
     "output_type": "stream",
     "text": [
      "        Date        Open        High         Low       Close   Volume  \\\n",
      "4 2025-01-02  221.820007  222.490005  217.600006  219.940002  2579498   \n",
      "3 2025-01-03  220.550003  223.660004  220.550003  222.649994  3873578   \n",
      "2 2025-01-06  223.000000  224.350006  220.750000  222.669998  2847128   \n",
      "1 2025-01-07  223.350006  226.710999  222.830002  223.960007  3299701   \n",
      "0 2025-01-08  223.910004  224.899994  220.830002  223.179993  2619768   \n",
      "\n",
      "       SMA_10      SMA_50   SMA_100    SMA_200      EMA_10      EMA_50  \\\n",
      "4  222.148000  220.609401  216.6979  197.48890  222.708353  221.867401   \n",
      "3  222.395999  220.417401  217.0296  197.63545  222.697742  221.898091   \n",
      "2  222.270999  220.215800  217.3464  197.77900  222.692698  221.928362   \n",
      "1  222.331000  220.327201  217.6628  197.93930  222.923118  222.008034   \n",
      "0  222.456000  220.497401  217.9551  198.10100  222.969822  222.053993   \n",
      "\n",
      "      EMA_100     EMA_200  \n",
      "4  214.823300  152.341384  \n",
      "3  214.978284  152.411783  \n",
      "2  215.130595  152.482131  \n",
      "1  215.305435  152.553700  \n",
      "0  215.461367  152.624416  \n"
     ]
    }
   ],
   "source": [
    "df['EMA_10'] = df['Close'].ewm(span=10).mean()\n",
    "df['EMA_50'] = df['Close'].ewm(span=50).mean()\n",
    "df['EMA_100'] = df['Close'].ewm(span=100).mean()\n",
    "df['EMA_200'] = df['Close'].ewm(span=2000).mean()\n",
    "print(df.tail())"
   ]
  },
  {
   "cell_type": "code",
   "execution_count": 191,
   "metadata": {},
   "outputs": [
    {
     "name": "stdout",
     "output_type": "stream",
     "text": [
      "        Date        Open        High         Low       Close   Volume  \\\n",
      "4 2025-01-02  221.820007  222.490005  217.600006  219.940002  2579498   \n",
      "3 2025-01-03  220.550003  223.660004  220.550003  222.649994  3873578   \n",
      "2 2025-01-06  223.000000  224.350006  220.750000  222.669998  2847128   \n",
      "1 2025-01-07  223.350006  226.710999  222.830002  223.960007  3299701   \n",
      "0 2025-01-08  223.910004  224.899994  220.830002  223.179993  2619768   \n",
      "\n",
      "       SMA_10      SMA_50   SMA_100    SMA_200  ...  Bollinger_High  \\\n",
      "4  222.148000  220.609401  216.6979  197.48890  ...      237.888484   \n",
      "3  222.395999  220.417401  217.0296  197.63545  ...      237.084915   \n",
      "2  222.270999  220.215800  217.3464  197.77900  ...      235.892401   \n",
      "1  222.331000  220.327201  217.6628  197.93930  ...      233.511605   \n",
      "0  222.456000  220.497401  217.9551  198.10100  ...      232.910306   \n",
      "\n",
      "   Bollinger_Low       ATR        OBV   Chaikin        ADX    SAR_Down  \\\n",
      "4     216.209515  4.339795  353046012 -0.102213  19.622705  232.253418   \n",
      "3     215.929083  4.295524  356919590 -0.131711  18.945839  231.081146   \n",
      "2     215.913597  4.245845  359766718 -0.122708  18.086200  230.002655   \n",
      "1     216.886395  4.231213  363066419 -0.186873  17.046592  229.010437   \n",
      "0     216.805693  4.219697  360446651 -0.133495  16.181751  228.097595   \n",
      "\n",
      "       SAR_Up  MA_Crossover   BB_Width  \n",
      "4  229.130005      1.538599  21.678969  \n",
      "3  229.130005      1.978599  21.155832  \n",
      "2  229.130005      2.055199  19.978803  \n",
      "1  229.130005      2.003799  16.625210  \n",
      "0  229.130005      1.958599  16.104613  \n",
      "\n",
      "[5 rows x 28 columns]\n"
     ]
    }
   ],
   "source": [
    "import ta\n",
    "\n",
    "df['RSI'] = ta.momentum.rsi(df['Close'], window = 14, fillna = True)\n",
    "df['MACD'] = ta.trend.macd(df['Close'], fillna = True)\n",
    "df['MACD_signal'] = ta.trend.macd_signal(df['Close'], fillna = True)\n",
    "df['Stochastic'] = ta.momentum.stoch(df['High'], df['Low'], df['Close'], fillna = True)\n",
    "df['Bollinger_High'] = ta.volatility.bollinger_hband(df['Close'], fillna = True)\n",
    "df['Bollinger_Low'] = ta.volatility.bollinger_lband(df['Close'], fillna = True)\n",
    "df['ATR'] = ta.volatility.average_true_range(df['High'], df['Low'], df['Close'], fillna = True)\n",
    "df['OBV'] = ta.volume.on_balance_volume(df['Close'], df['Volume'], fillna = True)\n",
    "df['Chaikin'] = ta.volume.chaikin_money_flow(df['High'], df['Low'], df['Close'], df['Volume'], fillna = True)\n",
    "df['ADX'] = ta.trend.adx(df['High'], df['Low'], df['Close'], fillna = True)\n",
    "df['SAR_Down'] = ta.trend.psar_down(df['High'], df['Low'], df['Close'], fillna = True)\n",
    "df['SAR_Up'] = ta.trend.psar_up(df['High'], df['Low'], df['Close'], fillna = True)\n",
    "df['MA_Crossover'] = df['SMA_10'] - df['SMA_50']\n",
    "df['BB_Width'] = df['Bollinger_High'] - df['Bollinger_Low']\n",
    "print(df.tail())"
   ]
  },
  {
   "cell_type": "code",
   "execution_count": 133,
   "metadata": {},
   "outputs": [
    {
     "name": "stdout",
     "output_type": "stream",
     "text": [
      "        timestamp  value\n",
      "0      2025-01-07   4.33\n",
      "1      2025-01-06   4.33\n",
      "2      2025-01-05   4.33\n",
      "3      2025-01-04   4.33\n",
      "4      2025-01-03   4.33\n",
      "...           ...    ...\n",
      "25754  1954-07-05   0.88\n",
      "25755  1954-07-04   1.25\n",
      "25756  1954-07-03   1.25\n",
      "25757  1954-07-02   1.25\n",
      "25758  1954-07-01   1.13\n",
      "\n",
      "[25759 rows x 2 columns]\n",
      "       timestamp    value\n",
      "0     2024-11-01  315.493\n",
      "1     2024-10-01  315.664\n",
      "2     2024-09-01  315.301\n",
      "3     2024-08-01  314.796\n",
      "4     2024-07-01  314.540\n",
      "...          ...      ...\n",
      "1338  1913-05-01    9.700\n",
      "1339  1913-04-01    9.800\n",
      "1340  1913-03-01    9.800\n",
      "1341  1913-02-01    9.800\n",
      "1342  1913-01-01    9.800\n",
      "\n",
      "[1343 rows x 2 columns]\n",
      "      timestamp  value\n",
      "0    2024-11-01    4.2\n",
      "1    2024-10-01    4.1\n",
      "2    2024-09-01    4.1\n",
      "3    2024-08-01    4.2\n",
      "4    2024-07-01    4.3\n",
      "..          ...    ...\n",
      "918  1948-05-01    3.5\n",
      "919  1948-04-01    3.9\n",
      "920  1948-03-01    4.0\n",
      "921  1948-02-01    3.8\n",
      "922  1948-01-01    3.4\n",
      "\n",
      "[923 rows x 2 columns]\n",
      "   fiscalDateEnding reportedEPS\n",
      "0        2024-12-31        6.41\n",
      "1        2023-12-31        9.61\n",
      "2        2022-12-31        9.12\n",
      "3        2021-12-31        9.97\n",
      "4        2020-12-31        8.67\n",
      "5        2019-12-31       12.81\n",
      "6        2018-12-31       13.82\n",
      "7        2017-12-31       13.65\n",
      "8        2016-12-31        13.6\n",
      "9        2015-12-31       14.93\n",
      "10       2014-12-31       16.27\n",
      "11       2013-12-31       17.03\n",
      "12       2012-12-31        15.3\n",
      "13       2011-12-31       13.49\n",
      "14       2010-12-31       11.58\n",
      "15       2009-12-31       10.01\n",
      "16       2008-12-31        8.96\n",
      "17       2007-12-31        7.19\n",
      "18       2006-12-31        6.09\n",
      "19       2005-12-31        5.34\n",
      "20       2004-12-31        5.07\n",
      "21       2003-12-31        4.34\n",
      "22       2002-12-31         3.9\n",
      "23       2001-12-31        4.44\n",
      "24       2000-12-31        4.45\n",
      "25       1999-12-31        3.71\n",
      "26       1998-12-31        3.32\n",
      "27       1997-12-31        3.09\n",
      "28       1996-12-31        2.77\n",
      "    fiscalDateEnding reportedDate reportedEPS estimatedEPS surprise  \\\n",
      "0         2024-09-30   2024-10-23         2.3         2.23     0.07   \n",
      "1         2024-06-30   2024-07-24        2.43          2.2     0.23   \n",
      "2         2024-03-31   2024-04-24        1.68          1.6     0.08   \n",
      "3         2023-12-31   2024-01-24        3.87         3.78     0.09   \n",
      "4         2023-09-30   2023-10-25         2.2         2.13     0.07   \n",
      "..               ...          ...         ...          ...      ...   \n",
      "110       1997-03-31   1997-04-23        0.59         0.58     0.01   \n",
      "111       1996-12-31   1997-01-21        0.98         0.99    -0.01   \n",
      "112       1996-09-30   1996-10-21        0.61         0.61        0   \n",
      "113       1996-06-30   1996-07-25        0.63         0.61     0.02   \n",
      "114       1996-03-31   1996-04-17        0.55          0.6    -0.05   \n",
      "\n",
      "    surprisePercentage   reportTime  \n",
      "0                3.139  post-market  \n",
      "1              10.4545  post-market  \n",
      "2                    5  post-market  \n",
      "3                2.381  post-market  \n",
      "4               3.2864  post-market  \n",
      "..                 ...          ...  \n",
      "110             1.7241   pre-market  \n",
      "111            -1.0101   pre-market  \n",
      "112                  0   pre-market  \n",
      "113             3.2787   pre-market  \n",
      "114            -8.3333   pre-market  \n",
      "\n",
      "[115 rows x 7 columns]\n",
      "      timestamp             value\n",
      "0    2024-11-01  166.240565127144\n",
      "1    2024-10-01  166.706583314313\n",
      "2    2024-09-01  161.463540590027\n",
      "3    2024-08-01  164.174770420668\n",
      "4    2024-07-01  166.137493006254\n",
      "..          ...               ...\n",
      "390  1992-05-01                 .\n",
      "391  1992-04-01                 .\n",
      "392  1992-03-01                 .\n",
      "393  1992-02-01                 .\n",
      "394  1992-01-01                 .\n",
      "\n",
      "[395 rows x 2 columns]\n"
     ]
    }
   ],
   "source": [
    "url = f'https://www.alphavantage.co/query?function=FEDERAL_FUNDS_RATE&interval=daily&apikey={apikey}&datatype=csv'\n",
    "df_fed = pd.read_csv(url)\n",
    "\n",
    "url = f'https://www.alphavantage.co/query?function=CPI&interval=monthly&apikey={apikey}&datatype=csv'\n",
    "df_inflation = pd.read_csv(url)\n",
    "\n",
    "url = f'https://www.alphavantage.co/query?function=UNEMPLOYMENT&apikey={apikey}&datatype=csv'\n",
    "df_unemployment = pd.read_csv(url)\n",
    "\n",
    "url = f'https://www.alphavantage.co/query?function=EARNINGS&symbol={symbol}&apikey={apikey}'\n",
    "r = requests.get(url)\n",
    "dataAnnual = r.json()['annualEarnings']\n",
    "dataQuarter = r.json()['quarterlyEarnings']\n",
    "df_annual_earnings = pd.DataFrame(dataAnnual)\n",
    "df_quarterly_earnings = pd.DataFrame(dataQuarter)\n",
    "\n",
    "url = f'https://www.alphavantage.co/query?function=ALL_COMMODITIES&interval=monthly&apikey={apikey}&datatype=csv'\n",
    "df_commodities = pd.read_csv(url)\n",
    "\n",
    "print(df_fed)\n",
    "print(df_inflation)\n",
    "print(df_unemployment)\n",
    "print(df_annual_earnings)\n",
    "print(df_quarterly_earnings)\n",
    "print(df_commodities)"
   ]
  },
  {
   "cell_type": "code",
   "execution_count": 37,
   "metadata": {},
   "outputs": [
    {
     "name": "stdout",
     "output_type": "stream",
     "text": [
      "                                                title  \\\n",
      "0      1 Top Quantum Computing Stock to Buy Right Now   \n",
      "1   Okta Rises 9% in a Month: Is the Stock a Screa...   \n",
      "2   Quantum Computing: The New AI? A Look at the R...   \n",
      "3   Should You Buy This Artificial Intelligence  (...   \n",
      "4   IBM Solution Drives Innovation in Defense Appl...   \n",
      "5   Rigetti Computing Surges 692% in a Month: Is T...   \n",
      "6   The Zacks Analyst Blog Highlights Goldman Sach...   \n",
      "7   Quantum Computing, Rigetti, D-Wave Skyrocket U...   \n",
      "8   4 \"Dogs of the Dow\" Stocks for Investors to Wa...   \n",
      "9                  3 Top Tech Stocks to Buy Right Now   \n",
      "10  Can Cognizant's Expanding Partner Base Push th...   \n",
      "11  IBM And Illinois Team Up To Supercharge Quantu...   \n",
      "12  Palantir Stock Up 313% YTD: Is the Party Over,...   \n",
      "13  2025 Investment Themes: AI, Energy, Defense Re...   \n",
      "14  D-WAVE QUANTUM Surges 470% Year to Date: Is Th...   \n",
      "15  IBM Watsonx to Drive AI Adoption in Defense Se...   \n",
      "16  Adobe Stock Ahead of Q4 Earnings Results: Smar...   \n",
      "17  SNX Expands Its Partner Base With LastPass: Wh...   \n",
      "18  Nvidia-Backed Hugging Face CEO Makes 6 Predict...   \n",
      "19  IONQ Shares Surge 164.6% Year to Date: Time to...   \n",
      "20  IBM Stock Surges 39% YTD: Time to Include in Y...   \n",
      "21  Digital Health Market is Expected to Expand at...   \n",
      "22  Better Artificial Intelligence Stock: Palantir...   \n",
      "23  RGTI Surges 97% YTD: Should You Buy, Hold or S...   \n",
      "24  Meta, OpenAI, Orange Join Forces To Build AI M...   \n",
      "25  The Zacks Analyst Blog Highlights Adobe, Micro...   \n",
      "26  3 Reasons Adobe Stock is a Buy Despite a 19% D...   \n",
      "27  IBM Spin-Off Kyndryl Announces $300 Million Bu...   \n",
      "28  AMD's HPC Portfolio Powers El Capitan: How Sho...   \n",
      "29  What's Going On With Advanced Micro Devices St...   \n",
      "30  Palantir Stock Hits All-Time High: Wait for a ...   \n",
      "31  Supply Chain Management Software Market to Rea...   \n",
      "32  Jim Cramer Says Intuitive Surgical Is A 'Fanta...   \n",
      "33  Should iShares MSCI USA Value Factor ETF  ( VL...   \n",
      "34  Salesforce Stock Soars 16.1% in Six Months: Wh...   \n",
      "35  3 Ways Stock-Split Stocks Nvidia and Sherwin-W...   \n",
      "36  Rigetti Set to Report Q3 Earnings: Buy, Sell o...   \n",
      "37  With Nvidia Kicking Intel Out of the Dow Jones...   \n",
      "38  Will IBM's Expanded Capabilities in Microsoft ...   \n",
      "39  Drug Discovery Informatics Market Size Set to ...   \n",
      "40  AI Market in Media & Entertainment to Grow by ...   \n",
      "41  Should iShares MSCI USA Min Vol Factor ETF  ( ...   \n",
      "42          3 Top Bargain Stocks Ready for a Bull Run   \n",
      "43  Adobe Down 6% in a Month: Should You Buy the D...   \n",
      "44  Should Invesco Large Cap Value ETF  ( PWV )  B...   \n",
      "45  2 High-Yield Dividend Stocks That Are Screamin...   \n",
      "46  IBM Unveils Gen-AI Powered Guardium Data Secur...   \n",
      "47       IBM Stock Is Still a Buy After Mixed Results   \n",
      "48  INTC Stock Before Q3 Earnings Release: To Buy ...   \n",
      "49    How Much Will IBM Pay Out in Dividends in 2025?   \n",
      "\n",
      "                                                  url   time_published  \\\n",
      "0   https://www.fool.com/investing/2024/12/24/1-to...  20241224T122000   \n",
      "1   https://www.zacks.com/stock/news/2387050/okta-...  20241223T164700   \n",
      "2   https://www.benzinga.com/markets/equities/24/1...  20241222T190045   \n",
      "3   https://www.fool.com/investing/2024/12/22/shou...  20241222T144300   \n",
      "4   https://www.zacks.com/stock/news/2386542/ibm-s...  20241220T182800   \n",
      "5   https://www.zacks.com/stock/news/2385881/riget...  20241219T163300   \n",
      "6   https://www.zacks.com/stock/news/2385551/the-z...  20241219T092100   \n",
      "7   https://www.benzinga.com/general/market-summar...  20241219T081441   \n",
      "8   https://www.zacks.com/stock/news/2385135/4-dog...  20241218T135300   \n",
      "9   https://www.fool.com/investing/2024/12/14/3-to...  20241214T134100   \n",
      "10  https://www.zacks.com/stock/news/2383443/can-c...  20241213T153900   \n",
      "11  https://www.benzinga.com/news/contracts/24/12/...  20241213T121003   \n",
      "12  https://www.zacks.com/stock/news/2382395/palan...  20241211T200000   \n",
      "13  https://www.benzinga.com/analyst-ratings/analy...  20241211T171526   \n",
      "14  https://www.zacks.com/stock/news/2381757/d-wav...  20241210T174800   \n",
      "15  https://www.zacks.com/stock/news/2381095/ibm-w...  20241209T170700   \n",
      "16  https://www.zacks.com/stock/news/2381018/adobe...  20241209T154400   \n",
      "17  https://www.zacks.com/stock/news/2379123/snx-e...  20241204T172500   \n",
      "18  https://www.benzinga.com/24/12/42319922/artifi...  20241204T162105   \n",
      "19  https://www.zacks.com/stock/news/2378949/ionq-...  20241204T150800   \n",
      "20  https://www.zacks.com/stock/news/2377906/ibm-s...  20241202T200000   \n",
      "21  https://www.benzinga.com/pressreleases/24/12/g...  20241202T102433   \n",
      "22  https://www.fool.com/investing/2024/11/29/bett...  20241129T123700   \n",
      "23  https://www.zacks.com/stock/news/2375594/rgti-...  20241126T175600   \n",
      "24  https://www.benzinga.com/24/11/42193222/orange...  20241126T153741   \n",
      "25  https://www.zacks.com/stock/news/2373717/the-z...  20241122T100000   \n",
      "26  https://www.zacks.com/stock/news/2373527/3-rea...  20241121T163400   \n",
      "27  https://www.benzinga.com/24/11/42117143/ibm-sp...  20241121T162334   \n",
      "28  https://www.zacks.com/stock/news/2372926/amds-...  20241120T163500   \n",
      "29  https://www.benzinga.com/trading-ideas/movers/...  20241118T182505   \n",
      "30  https://www.zacks.com/stock/news/2370587/palan...  20241114T165600   \n",
      "31  https://www.benzinga.com/pressreleases/24/11/g...  20241114T003000   \n",
      "32  https://www.benzinga.com/trading-ideas/long-id...  20241113T140058   \n",
      "33  https://www.zacks.com/stock/news/2369389/shoul...  20241113T112007   \n",
      "34  https://www.zacks.com/stock/news/2367939/sales...  20241111T131600   \n",
      "35  https://www.fool.com/investing/2024/11/09/stoc...  20241109T111500   \n",
      "36  https://www.zacks.com/stock/news/2367700/riget...  20241108T171900   \n",
      "37  https://www.fool.com/investing/2024/11/08/nvid...  20241108T091000   \n",
      "38  https://www.zacks.com/stock/news/2364498/will-...  20241105T151400   \n",
      "39  https://www.benzinga.com/pressreleases/24/11/g...  20241104T153000   \n",
      "40  https://www.benzinga.com/pressreleases/24/10/n...  20241031T212000   \n",
      "41  https://www.zacks.com/stock/news/2361383/shoul...  20241031T102007   \n",
      "42  https://www.fool.com/investing/2024/10/29/3-to...  20241029T135300   \n",
      "43  https://www.zacks.com/stock/news/2358945/adobe...  20241028T180200   \n",
      "44  https://www.zacks.com/stock/news/2358234/shoul...  20241028T102007   \n",
      "45  https://www.fool.com/investing/2024/10/27/2-hi...  20241027T170900   \n",
      "46  https://www.zacks.com/stock/news/2357918/ibm-u...  20241025T142800   \n",
      "47  https://www.fool.com/investing/2024/10/25/ibm-...  20241025T122000   \n",
      "48  https://www.zacks.com/stock/news/2357616/intc-...  20241025T120900   \n",
      "49  https://www.fool.com/investing/2024/10/25/how-...  20241025T102700   \n",
      "\n",
      "                        authors  \\\n",
      "0               [Timothy Green]   \n",
      "1           [Aniruddha Ganguly]   \n",
      "2      [Nabaparna Bhattacharya]   \n",
      "3               [Anders Bylund]   \n",
      "4       [Zacks Equity Research]   \n",
      "5   [Zacks Investment Research]   \n",
      "6   [Zacks Investment Research]   \n",
      "7              [Rishabh Mishra]   \n",
      "8              [Vaishali Doshi]   \n",
      "9               [Anders Bylund]   \n",
      "10  [Zacks Investment Research]   \n",
      "11                [Lekha Gupta]   \n",
      "12         [Shuvra Shankar Dey]   \n",
      "13                [Surbhi Jain]   \n",
      "14  [Zacks Investment Research]   \n",
      "15      [Zacks Equity Research]   \n",
      "16          [Aniruddha Ganguly]   \n",
      "17      [Zacks Equity Research]   \n",
      "18                [Chris Katje]   \n",
      "19         [Vasundhara Sawalka]   \n",
      "20               [Supriyo Bose]   \n",
      "21             [Globe Newswire]   \n",
      "22                 [Dan Victor]   \n",
      "23  [Zacks Investment Research]   \n",
      "24             [Anusuya Lahiri]   \n",
      "25  [Zacks Investment Research]   \n",
      "26          [Aniruddha Ganguly]   \n",
      "27                [Surbhi Jain]   \n",
      "28            [Nida Ali Saigal]   \n",
      "29               [Dylan Berman]   \n",
      "30         [Shuvra Shankar Dey]   \n",
      "31             [Globe Newswire]   \n",
      "32                 [Avi Kapoor]   \n",
      "33      [Zacks Equity Research]   \n",
      "34            [Anirudha Bhagat]   \n",
      "35             [Daniel Foelber]   \n",
      "36  [Zacks Investment Research]   \n",
      "37             [Daniel Foelber]   \n",
      "38               [Supriyo Bose]   \n",
      "39             [Globe Newswire]   \n",
      "40                 [PRNewswire]   \n",
      "41      [Zacks Equity Research]   \n",
      "42                 [Will Healy]   \n",
      "43          [Aniruddha Ganguly]   \n",
      "44      [Zacks Equity Research]   \n",
      "45              [Anders Bylund]   \n",
      "46  [Zacks Investment Research]   \n",
      "47              [Timothy Green]   \n",
      "48               [Supriyo Bose]   \n",
      "49              [Anders Bylund]   \n",
      "\n",
      "                                              summary  \\\n",
      "0   The next big thing in technology could very we...   \n",
      "1   Gaining adoption of OKTA's Identity Threat Pro...   \n",
      "2   Quantum computing is emerging as a game-changi...   \n",
      "3   Looking for an undervalued AI opportunity at t...   \n",
      "4   Lockheed Martin is set to incorporate Internat...   \n",
      "5   RGTI benefits from an expanding clientele and ...   \n",
      "6   Goldman Sachs, Chevron, International Business...   \n",
      "7   Quantum computing stocks have catapulted this ...   \n",
      "8   We bring four stocks from the \"Dogs of the Dow...   \n",
      "9   Searching for undervalued tech gems while reba...   \n",
      "10  CTSH is benefiting from growing clientele and ...   \n",
      "11  On Thursday, International Business Machines C...   \n",
      "12  With PLTR's notable rise in stock price, it is...   \n",
      "13  Scott Helfstein emphasizes U.S. competitivenes...   \n",
      "14  QBTS stock benefits from an expanding clientel...   \n",
      "15  International Business Machines forms a collab...   \n",
      "16  ADBE's fourth-quarter fiscal 2024 results are ...   \n",
      "17  TD SYNNEX partners with LastPass to make the l...   \n",
      "18  Many companies dealing in artificial intellige...   \n",
      "19  Despite IonQ's 164.6% YTD surge, widening loss...   \n",
      "20  IBM appears to be treading in the middle of th...   \n",
      "21  Westford, USA, Dec. 02, 2024 ( GLOBE NEWSWIRE ...   \n",
      "22  It's been an excellent year for stock market i...   \n",
      "23  Rigetti benefits from an expanding clientele a...   \n",
      "24  French telecom company Orange announced its pa...   \n",
      "25  Adobe, Microsoft, International Business Machi...   \n",
      "26  ADBE shares are benefiting from strong demand ...   \n",
      "27  Kyndryl Holdings Inc. KD is boosting investor ...   \n",
      "28  Advanced Micro Devices stock is likely to bene...   \n",
      "29  Advanced Micro Devices, Inc. AMD shares are tr...   \n",
      "30  Given the notable rise in PLTR stock, let's as...   \n",
      "31  Westford, USA, Nov. 13, 2024 ( GLOBE NEWSWIRE ...   \n",
      "32  Intuitive Surgical, Inc. ISRG is a \"fantastic ...   \n",
      "33                       Style Box ETF report for ...   \n",
      "34  With robust AI expansion, strategic acquisitio...   \n",
      "35  The Dow is less representative of value and di...   \n",
      "36  RGTI's third-quarter 2024 performance is expec...   \n",
      "37  The Dow Jones Industrial Average's shift away ...   \n",
      "38  IBM appears to be treading in the middle of th...   \n",
      "39  Wilmington, Delaware, United States, Transpare...   \n",
      "40  NEW YORK, Oct. 31, 2024 /PRNewswire/ -- Report...   \n",
      "41                       Style Box ETF report for ...   \n",
      "42  These tech stocks remain cheap despite recent ...   \n",
      "43  ADBE shares are benefiting from strong demand ...   \n",
      "44                       Style Box ETF report for ...   \n",
      "45  Want to add reliable dividend payers to your p...   \n",
      "46  IBM Guardium Data Security Center delivers uni...   \n",
      "47  Strong software sales and demand for AI servic...   \n",
      "48  With declining earnings estimates and abysmal ...   \n",
      "49  What's in store for IBM's dividends in 2025? H...   \n",
      "\n",
      "                                         banner_image            source  \\\n",
      "0   https://g.foolcdn.com/editorial/images/801998/...       Motley Fool   \n",
      "1   https://staticx-tuner.zacks.com/images/article...  Zacks Commentary   \n",
      "2   https://cdn.benzinga.com/files/images/story/20...          Benzinga   \n",
      "3   https://g.foolcdn.com/editorial/images/801834/...       Motley Fool   \n",
      "4   https://staticx-tuner.zacks.com/images/article...  Zacks Commentary   \n",
      "5   https://staticx-tuner.zacks.com/images/article...  Zacks Commentary   \n",
      "6   https://staticx-tuner.zacks.com/images/article...  Zacks Commentary   \n",
      "7   https://cdn.benzinga.com/files/images/story/20...          Benzinga   \n",
      "8   https://staticx-tuner.zacks.com/images/article...  Zacks Commentary   \n",
      "9   https://g.foolcdn.com/editorial/images/800716/...       Motley Fool   \n",
      "10  https://staticx-tuner.zacks.com/images/article...  Zacks Commentary   \n",
      "11  https://cdn.benzinga.com/files/images/story/20...          Benzinga   \n",
      "12  https://staticx-tuner.zacks.com/images/article...  Zacks Commentary   \n",
      "13  https://cdn.benzinga.com/files/images/story/20...          Benzinga   \n",
      "14  https://staticx-tuner.zacks.com/images/article...  Zacks Commentary   \n",
      "15  https://staticx-tuner.zacks.com/images/article...  Zacks Commentary   \n",
      "16  https://staticx-tuner.zacks.com/images/article...  Zacks Commentary   \n",
      "17  https://staticx-tuner.zacks.com/images/article...  Zacks Commentary   \n",
      "18  https://cdn.benzinga.com/files/images/story/20...          Benzinga   \n",
      "19  https://staticx-tuner.zacks.com/images/article...  Zacks Commentary   \n",
      "20  https://staticx-tuner.zacks.com/images/article...  Zacks Commentary   \n",
      "21  https://www.benzinga.com/next-assets/images/sc...          Benzinga   \n",
      "22  https://g.foolcdn.com/image/?url=https%3A%2F%2...       Motley Fool   \n",
      "23  https://staticx-tuner.zacks.com/images/article...  Zacks Commentary   \n",
      "24  https://cdn.benzinga.com/files/images/story/20...          Benzinga   \n",
      "25  https://staticx-tuner.zacks.com/images/article...  Zacks Commentary   \n",
      "26  https://staticx-tuner.zacks.com/images/article...  Zacks Commentary   \n",
      "27  https://editorial-assets.benzinga.com/wp-conte...          Benzinga   \n",
      "28  https://staticx-tuner.zacks.com/images/article...  Zacks Commentary   \n",
      "29  https://cdn.benzinga.com/files/images/story/20...          Benzinga   \n",
      "30  https://staticx-tuner.zacks.com/images/article...  Zacks Commentary   \n",
      "31  https://www.benzinga.com/next-assets/images/sc...          Benzinga   \n",
      "32  https://cdn.benzinga.com/files/images/story/20...          Benzinga   \n",
      "33  https://staticx-tuner.zacks.com/images/default...  Zacks Commentary   \n",
      "34  https://staticx-tuner.zacks.com/images/article...  Zacks Commentary   \n",
      "35  https://g.foolcdn.com/image/?url=https%3A%2F%2...       Motley Fool   \n",
      "36  https://staticx-tuner.zacks.com/images/article...  Zacks Commentary   \n",
      "37  https://g.foolcdn.com/image/?url=https%3A%2F%2...       Motley Fool   \n",
      "38  https://staticx-tuner.zacks.com/images/article...  Zacks Commentary   \n",
      "39  https://ml.globenewswire.com/Resource/Download...          Benzinga   \n",
      "40  https://mma.prnewswire.com/media/2544236/IRTNT...          Benzinga   \n",
      "41  https://staticx-tuner.zacks.com/images/default...  Zacks Commentary   \n",
      "42  https://g.foolcdn.com/image/?url=https%3A%2F%2...       Motley Fool   \n",
      "43  https://staticx-tuner.zacks.com/images/article...  Zacks Commentary   \n",
      "44  https://staticx-tuner.zacks.com/images/default...  Zacks Commentary   \n",
      "45  https://media.ycharts.com/charts/35099f1b9190e...       Motley Fool   \n",
      "46  https://staticx-tuner.zacks.com/images/article...  Zacks Commentary   \n",
      "47  https://g.foolcdn.com/editorial/images/795223/...       Motley Fool   \n",
      "48  https://staticx-tuner.zacks.com/images/article...  Zacks Commentary   \n",
      "49  https://media.ycharts.com/charts/ca0f9ed0af4ab...       Motley Fool   \n",
      "\n",
      "   category_within_source     source_domain  \\\n",
      "0                     n/a      www.fool.com   \n",
      "1                     n/a     www.zacks.com   \n",
      "2                 General  www.benzinga.com   \n",
      "3                     n/a      www.fool.com   \n",
      "4                     n/a     www.zacks.com   \n",
      "5                     n/a     www.zacks.com   \n",
      "6                     n/a     www.zacks.com   \n",
      "7                 Markets  www.benzinga.com   \n",
      "8                     n/a     www.zacks.com   \n",
      "9                     n/a      www.fool.com   \n",
      "10                    n/a     www.zacks.com   \n",
      "11                   News  www.benzinga.com   \n",
      "12                    n/a     www.zacks.com   \n",
      "13                Trading  www.benzinga.com   \n",
      "14                    n/a     www.zacks.com   \n",
      "15                    n/a     www.zacks.com   \n",
      "16                    n/a     www.zacks.com   \n",
      "17                    n/a     www.zacks.com   \n",
      "18                   News  www.benzinga.com   \n",
      "19                    n/a     www.zacks.com   \n",
      "20                    n/a     www.zacks.com   \n",
      "21                General  www.benzinga.com   \n",
      "22                    n/a      www.fool.com   \n",
      "23                    n/a     www.zacks.com   \n",
      "24                   News  www.benzinga.com   \n",
      "25                    n/a     www.zacks.com   \n",
      "26                    n/a     www.zacks.com   \n",
      "27                Trading  www.benzinga.com   \n",
      "28                    n/a     www.zacks.com   \n",
      "29                   News  www.benzinga.com   \n",
      "30                    n/a     www.zacks.com   \n",
      "31                General  www.benzinga.com   \n",
      "32                Trading  www.benzinga.com   \n",
      "33                    n/a     www.zacks.com   \n",
      "34                    n/a     www.zacks.com   \n",
      "35                    n/a      www.fool.com   \n",
      "36                    n/a     www.zacks.com   \n",
      "37                    n/a      www.fool.com   \n",
      "38                    n/a     www.zacks.com   \n",
      "39                General  www.benzinga.com   \n",
      "40                General  www.benzinga.com   \n",
      "41                    n/a     www.zacks.com   \n",
      "42                    n/a      www.fool.com   \n",
      "43                    n/a     www.zacks.com   \n",
      "44                    n/a     www.zacks.com   \n",
      "45                    n/a      www.fool.com   \n",
      "46                    n/a     www.zacks.com   \n",
      "47                    n/a      www.fool.com   \n",
      "48                    n/a     www.zacks.com   \n",
      "49                    n/a      www.fool.com   \n",
      "\n",
      "                                               topics  \\\n",
      "0   [{'topic': 'Technology', 'relevance_score': '1...   \n",
      "1   [{'topic': 'Earnings', 'relevance_score': '0.9...   \n",
      "2   [{'topic': 'Technology', 'relevance_score': '0...   \n",
      "3   [{'topic': 'Financial Markets', 'relevance_sco...   \n",
      "4   [{'topic': 'Life Sciences', 'relevance_score':...   \n",
      "5   [{'topic': 'Financial Markets', 'relevance_sco...   \n",
      "6   [{'topic': 'Financial Markets', 'relevance_sco...   \n",
      "7   [{'topic': 'Real Estate & Construction', 'rele...   \n",
      "8   [{'topic': 'Financial Markets', 'relevance_sco...   \n",
      "9   [{'topic': 'Life Sciences', 'relevance_score':...   \n",
      "10  [{'topic': 'Earnings', 'relevance_score': '0.8...   \n",
      "11  [{'topic': 'Technology', 'relevance_score': '1...   \n",
      "12  [{'topic': 'Financial Markets', 'relevance_sco...   \n",
      "13  [{'topic': 'Life Sciences', 'relevance_score':...   \n",
      "14  [{'topic': 'Earnings', 'relevance_score': '0.6...   \n",
      "15  [{'topic': 'Earnings', 'relevance_score': '0.4...   \n",
      "16  [{'topic': 'Life Sciences', 'relevance_score':...   \n",
      "17  [{'topic': 'Retail & Wholesale', 'relevance_sc...   \n",
      "18  [{'topic': 'Economy - Monetary', 'relevance_sc...   \n",
      "19  [{'topic': 'Life Sciences', 'relevance_score':...   \n",
      "20  [{'topic': 'Retail & Wholesale', 'relevance_sc...   \n",
      "21  [{'topic': 'Life Sciences', 'relevance_score':...   \n",
      "22  [{'topic': 'Earnings', 'relevance_score': '0.9...   \n",
      "23  [{'topic': 'Financial Markets', 'relevance_sco...   \n",
      "24  [{'topic': 'Technology', 'relevance_score': '0...   \n",
      "25  [{'topic': 'Life Sciences', 'relevance_score':...   \n",
      "26  [{'topic': 'Life Sciences', 'relevance_score':...   \n",
      "27  [{'topic': 'Earnings', 'relevance_score': '0.3...   \n",
      "28  [{'topic': 'Retail & Wholesale', 'relevance_sc...   \n",
      "29  [{'topic': 'Financial Markets', 'relevance_sco...   \n",
      "30  [{'topic': 'Financial Markets', 'relevance_sco...   \n",
      "31  [{'topic': 'Technology', 'relevance_score': '1...   \n",
      "32  [{'topic': 'Life Sciences', 'relevance_score':...   \n",
      "33  [{'topic': 'Earnings', 'relevance_score': '0.4...   \n",
      "34  [{'topic': 'Retail & Wholesale', 'relevance_sc...   \n",
      "35  [{'topic': 'Life Sciences', 'relevance_score':...   \n",
      "36  [{'topic': 'Earnings', 'relevance_score': '0.8...   \n",
      "37  [{'topic': 'Life Sciences', 'relevance_score':...   \n",
      "38  [{'topic': 'Economy - Monetary', 'relevance_sc...   \n",
      "39  [{'topic': 'Life Sciences', 'relevance_score':...   \n",
      "40  [{'topic': 'Technology', 'relevance_score': '1...   \n",
      "41  [{'topic': 'Technology', 'relevance_score': '0...   \n",
      "42  [{'topic': 'Financial Markets', 'relevance_sco...   \n",
      "43  [{'topic': 'Life Sciences', 'relevance_score':...   \n",
      "44  [{'topic': 'Financial Markets', 'relevance_sco...   \n",
      "45  [{'topic': 'Economy - Monetary', 'relevance_sc...   \n",
      "46  [{'topic': 'Financial Markets', 'relevance_sco...   \n",
      "47  [{'topic': 'Economy - Monetary', 'relevance_sc...   \n",
      "48  [{'topic': 'Retail & Wholesale', 'relevance_sc...   \n",
      "49  [{'topic': 'Earnings', 'relevance_score': '0.1...   \n",
      "\n",
      "    overall_sentiment_score overall_sentiment_label  \\\n",
      "0                  0.208344        Somewhat-Bullish   \n",
      "1                  0.437569                 Bullish   \n",
      "2                  0.343692        Somewhat-Bullish   \n",
      "3                  0.248196        Somewhat-Bullish   \n",
      "4                  0.271068        Somewhat-Bullish   \n",
      "5                  0.231811        Somewhat-Bullish   \n",
      "6                  0.332417        Somewhat-Bullish   \n",
      "7                  0.140376                 Neutral   \n",
      "8                  0.347166        Somewhat-Bullish   \n",
      "9                  0.290068        Somewhat-Bullish   \n",
      "10                 0.331298        Somewhat-Bullish   \n",
      "11                 0.389159                 Bullish   \n",
      "12                 0.413786                 Bullish   \n",
      "13                 0.268954        Somewhat-Bullish   \n",
      "14                 0.292343        Somewhat-Bullish   \n",
      "15                 0.348682        Somewhat-Bullish   \n",
      "16                 0.347852        Somewhat-Bullish   \n",
      "17                 0.019353                 Neutral   \n",
      "18                 0.232194        Somewhat-Bullish   \n",
      "19                 0.106812                 Neutral   \n",
      "20                 0.288217        Somewhat-Bullish   \n",
      "21                 0.190054        Somewhat-Bullish   \n",
      "22                 0.404745                 Bullish   \n",
      "23                 0.258923        Somewhat-Bullish   \n",
      "24                 0.317698        Somewhat-Bullish   \n",
      "25                 0.376072                 Bullish   \n",
      "26                 0.378447                 Bullish   \n",
      "27                 0.485277                 Bullish   \n",
      "28                 0.217191        Somewhat-Bullish   \n",
      "29                 0.289338        Somewhat-Bullish   \n",
      "30                 0.377773                 Bullish   \n",
      "31                 0.360717                 Bullish   \n",
      "32                 0.106969                 Neutral   \n",
      "33                 0.238114        Somewhat-Bullish   \n",
      "34                 0.448087                 Bullish   \n",
      "35                 0.169724        Somewhat-Bullish   \n",
      "36                 0.317414        Somewhat-Bullish   \n",
      "37                 0.064480                 Neutral   \n",
      "38                 0.230077        Somewhat-Bullish   \n",
      "39                 0.401711                 Bullish   \n",
      "40                 0.454263                 Bullish   \n",
      "41                 0.139215                 Neutral   \n",
      "42                 0.190019        Somewhat-Bullish   \n",
      "43                 0.364785                 Bullish   \n",
      "44                 0.245669        Somewhat-Bullish   \n",
      "45                 0.360697                 Bullish   \n",
      "46                 0.351516                 Bullish   \n",
      "47                 0.026659                 Neutral   \n",
      "48                 0.174965        Somewhat-Bullish   \n",
      "49                 0.341012        Somewhat-Bullish   \n",
      "\n",
      "                                     ticker_sentiment  \n",
      "0   [{'ticker': 'GOOG', 'relevance_score': '0.1400...  \n",
      "1   [{'ticker': 'MSFT', 'relevance_score': '0.1241...  \n",
      "2   [{'ticker': 'MSFT', 'relevance_score': '0.1667...  \n",
      "3   [{'ticker': 'MSFT', 'relevance_score': '0.1024...  \n",
      "4   [{'ticker': 'LMT', 'relevance_score': '0.27127...  \n",
      "5   [{'ticker': 'MSFT', 'relevance_score': '0.1642...  \n",
      "6   [{'ticker': 'CSCO', 'relevance_score': '0.1146...  \n",
      "7   [{'ticker': 'QUBT', 'relevance_score': '0.3291...  \n",
      "8   [{'ticker': 'CSCO', 'relevance_score': '0.0844...  \n",
      "9   [{'ticker': 'AMD', 'relevance_score': '0.26682...  \n",
      "10  [{'ticker': 'CTSH', 'relevance_score': '0.5157...  \n",
      "11  [{'ticker': 'IBM', 'relevance_score': '0.62241...  \n",
      "12  [{'ticker': 'NVDA', 'relevance_score': '0.0845...  \n",
      "13  [{'ticker': 'PATH', 'relevance_score': '0.1564...  \n",
      "14  [{'ticker': 'ZPTA', 'relevance_score': '0.1065...  \n",
      "15  [{'ticker': 'IBM', 'relevance_score': '0.50464...  \n",
      "16  [{'ticker': 'MSFT', 'relevance_score': '0.2322...  \n",
      "17  [{'ticker': 'CSCO', 'relevance_score': '0.2478...  \n",
      "18  [{'ticker': 'GOOG', 'relevance_score': '0.0761...  \n",
      "19  [{'ticker': 'MSFT', 'relevance_score': '0.0957...  \n",
      "20  [{'ticker': 'MSFT', 'relevance_score': '0.3440...  \n",
      "21  [{'ticker': 'MSFT', 'relevance_score': '0.0424...  \n",
      "22  [{'ticker': 'IBM', 'relevance_score': '0.53863...  \n",
      "23  [{'ticker': 'RGTI', 'relevance_score': '0.5899...  \n",
      "24  [{'ticker': 'MSFT', 'relevance_score': '0.1974...  \n",
      "25  [{'ticker': 'MSFT', 'relevance_score': '0.1245...  \n",
      "26  [{'ticker': 'MSFT', 'relevance_score': '0.0899...  \n",
      "27  [{'ticker': 'IBM', 'relevance_score': '0.19581...  \n",
      "28  [{'ticker': 'LNVGF', 'relevance_score': '0.045...  \n",
      "29  [{'ticker': 'AMD', 'relevance_score': '0.64982...  \n",
      "30  [{'ticker': 'NVDA', 'relevance_score': '0.0875...  \n",
      "31  [{'ticker': 'DSGX', 'relevance_score': '0.0320...  \n",
      "32  [{'ticker': 'TMUS', 'relevance_score': '0.2249...  \n",
      "33  [{'ticker': 'T', 'relevance_score': '0.061159'...  \n",
      "34  [{'ticker': 'MSFT', 'relevance_score': '0.0553...  \n",
      "35  [{'ticker': 'MSFT', 'relevance_score': '0.1593...  \n",
      "36  [{'ticker': 'RGTI', 'relevance_score': '0.4806...  \n",
      "37  [{'ticker': 'GOOG', 'relevance_score': '0.1581...  \n",
      "38  [{'ticker': 'MSFT', 'relevance_score': '0.2833...  \n",
      "39  [{'ticker': 'GOOG', 'relevance_score': '0.0309...  \n",
      "40  [{'ticker': 'DSGR', 'relevance_score': '0.0217...  \n",
      "41  [{'ticker': 'TMUS', 'relevance_score': '0.1271...  \n",
      "42  [{'ticker': 'KD', 'relevance_score': '0.054732...  \n",
      "43  [{'ticker': 'MSFT', 'relevance_score': '0.0955...  \n",
      "44  [{'ticker': 'IVZ', 'relevance_score': '0.18296...  \n",
      "45  [{'ticker': 'IBM', 'relevance_score': '0.38887...  \n",
      "46  [{'ticker': 'BB', 'relevance_score': '0.207571...  \n",
      "47  [{'ticker': 'IBM', 'relevance_score': '0.63548...  \n",
      "48  [{'ticker': 'AMD', 'relevance_score': '0.08059...  \n",
      "49  [{'ticker': 'IBM', 'relevance_score': '0.41286...  \n"
     ]
    }
   ],
   "source": [
    "url = f'https://www.alphavantage.co/query?function=NEWS_SENTIMENT&tickers={symbol}&apikey={apikey}&sort=LATEST&limit=1000'\n",
    "r = requests.get(url)\n",
    "data = r.json()['feed']\n",
    "df_sentiments = pd.DataFrame(data)\n",
    "print(df_sentiments)"
   ]
  },
  {
   "cell_type": "code",
   "execution_count": 192,
   "metadata": {},
   "outputs": [],
   "source": [
    "df['Lag 1'] = df['Close'].shift(1)\n",
    "df['7 Day Avg'] = df['Close'].rolling(window=7).mean()\n",
    "df['Daily Returns'] = (df['Close'] - df['Open']) / df['Open']\n",
    "df['Price to Volume Ratio'] = df['Close'] / df['Volume']\n",
    "df['Day of the Week'] = df['Date'].dt.dayofweek\n",
    "df['Quarter'] = df['Date'].dt.quarter\n",
    "df['Daily Return'] = df['Close'].pct_change()\n",
    "df['Volatility'] = df['High'] - df['Low']\n",
    "df['Price Volume Interaction'] = df['Daily Return'] * df['Volume']\n",
    "df['RSI * Volume'] = df['RSI'] * df['Volume']\n",
    "df['MACD / Bollinger Band Width'] = df['MACD'] / df['BB_Width']"
   ]
  },
  {
   "cell_type": "markdown",
   "metadata": {},
   "source": [
    "Finlight key = sk_4470114c6d50ee45e7309af37287f659d87a2b8255f771e2d6815c36864bce5a"
   ]
  },
  {
   "cell_type": "code",
   "execution_count": 39,
   "metadata": {},
   "outputs": [
    {
     "name": "stdout",
     "output_type": "stream",
     "text": [
      "                                               title  \\\n",
      "0     1 Top Quantum Computing Stock to Buy Right Now   \n",
      "1  Okta Rises 9% in a Month: Is the Stock a Screa...   \n",
      "2  Quantum Computing: The New AI? A Look at the R...   \n",
      "3  Should You Buy This Artificial Intelligence  (...   \n",
      "4  IBM Solution Drives Innovation in Defense Appl...   \n",
      "\n",
      "                                             summary  overall_sentiment_score  \\\n",
      "0  The next big thing in technology could very we...                 0.208344   \n",
      "1  Gaining adoption of OKTA's Identity Threat Pro...                 0.437569   \n",
      "2  Quantum computing is emerging as a game-changi...                 0.343692   \n",
      "3  Looking for an undervalued AI opportunity at t...                 0.248196   \n",
      "4  Lockheed Martin is set to incorporate Internat...                 0.271068   \n",
      "\n",
      "  overall_sentiment_label                                   ticker_sentiment  \\\n",
      "0        Somewhat-Bullish  [{'ticker': 'GOOG', 'relevance_score': '0.1400...   \n",
      "1                 Bullish  [{'ticker': 'MSFT', 'relevance_score': '0.1241...   \n",
      "2        Somewhat-Bullish  [{'ticker': 'MSFT', 'relevance_score': '0.1667...   \n",
      "3        Somewhat-Bullish  [{'ticker': 'MSFT', 'relevance_score': '0.1024...   \n",
      "4        Somewhat-Bullish  [{'ticker': 'LMT', 'relevance_score': '0.27127...   \n",
      "\n",
      "         Date  \n",
      "0  2024-12-24  \n",
      "1  2024-12-23  \n",
      "2  2024-12-22  \n",
      "3  2024-12-22  \n",
      "4  2024-12-20  \n"
     ]
    }
   ],
   "source": [
    "dropColumns = [1,3,5,6,7,8,9]\n",
    "\n",
    "df_sentiments.drop(df_sentiments.columns[dropColumns], axis = 1, inplace=True)\n",
    "\n",
    "df_sentiments['date'] = pd.to_datetime(df_sentiments['time_published'], format = '%Y%m%dT%H%M%S')\n",
    "df_sentiments['Date'] = df_sentiments['date'].dt.date\n",
    "\n",
    "dropColumns = [1, 6]\n",
    "df_sentiments.drop(df_sentiments.columns[dropColumns], axis = 1, inplace = True)\n",
    "\n",
    "\n",
    "print(df_sentiments.head())"
   ]
  },
  {
   "cell_type": "code",
   "execution_count": 155,
   "metadata": {},
   "outputs": [
    {
     "name": "stdout",
     "output_type": "stream",
     "text": [
      "       title   summary  overall_sentiment_score overall_sentiment_label  \\\n",
      "0   0.392857      0.12                 0.208344                     0.0   \n",
      "1        0.0     0.225                 0.437569                     0.0   \n",
      "2   0.159091 -0.133333                 0.343692                     0.0   \n",
      "3       -0.6     -0.15                 0.248196                     0.0   \n",
      "4        0.0  0.107143                 0.271068                     0.0   \n",
      "5        0.5       0.0                 0.231811                     0.0   \n",
      "6        0.0       0.0                 0.332417                     0.0   \n",
      "7        0.0  0.066667                 0.140376                     0.0   \n",
      "8        0.0       0.5                 0.347166                     0.0   \n",
      "9   0.392857      0.15                 0.290068                     0.0   \n",
      "10    -0.275  0.334343                 0.331298                     0.0   \n",
      "11       0.0     -0.05                 0.389159                     0.0   \n",
      "12       0.5     0.175                 0.413786                     0.0   \n",
      "13       0.0       0.1                 0.268954                     0.0   \n",
      "14       0.0       0.0                 0.292343                     0.0   \n",
      "15       0.0       0.0                 0.348682                     0.0   \n",
      "16  0.214286  0.127778                 0.347852                     0.0   \n",
      "17      -0.8    0.1875                 0.019353                     0.0   \n",
      "18       0.0       0.1                 0.232194                     0.0   \n",
      "19       0.0    -0.025                 0.106812                     0.0   \n",
      "20       0.0  0.212121                 0.288217                     0.0   \n",
      "21  0.188889       0.0                 0.190054                     0.0   \n",
      "22     -0.05      0.25                 0.404745                     0.0   \n",
      "23       0.0       0.0                 0.258923                     0.0   \n",
      "24       0.0    -0.025                 0.317698                     0.0   \n",
      "25       0.0       0.0                 0.376072                     0.0   \n",
      "26       0.0  0.466667                 0.378447                     0.0   \n",
      "27       0.0      0.15                 0.485277                     0.0   \n",
      "28       0.0  0.061905                 0.217191                     0.0   \n",
      "29       0.4  0.216667                 0.289338                     0.0   \n",
      "30      0.16  0.233333                 0.377773                     0.0   \n",
      "31       0.0       0.0                 0.360717                     0.0   \n",
      "32     -0.05     -0.05                 0.106969                     0.0   \n",
      "33       0.0       0.0                 0.238114                     0.0   \n",
      "34       0.0       0.0                 0.448087                     0.0   \n",
      "35     -0.15  0.127778                 0.169724                     0.0   \n",
      "36       0.0     -0.05                 0.317414                     0.0   \n",
      "37       0.0 -0.091667                 0.064480                     0.0   \n",
      "38       0.0  0.212121                 0.230077                     0.0   \n",
      "39       0.0       0.0                 0.401711                     0.0   \n",
      "40       0.0  0.068182                 0.454263                     0.0   \n",
      "41       0.0       0.0                 0.139215                     0.0   \n",
      "42      0.35       0.2                 0.190019                     0.0   \n",
      "43 -0.155556  0.466667                 0.364785                     0.0   \n",
      "44  0.214286       0.0                 0.245669                     0.0   \n",
      "45  0.285714       0.5                 0.360697                     0.0   \n",
      "46      -0.1      -0.1                 0.351516                     0.0   \n",
      "47       0.0  0.433333                 0.026659                     0.0   \n",
      "48       0.0      -0.3                 0.174965                     0.0   \n",
      "49       0.2       0.0                 0.341012                     0.0   \n",
      "\n",
      "                                     ticker_sentiment        Date  \n",
      "0   [{'ticker': 'GOOG', 'relevance_score': '0.1400...  2024-12-24  \n",
      "1   [{'ticker': 'MSFT', 'relevance_score': '0.1241...  2024-12-23  \n",
      "2   [{'ticker': 'MSFT', 'relevance_score': '0.1667...  2024-12-22  \n",
      "3   [{'ticker': 'MSFT', 'relevance_score': '0.1024...  2024-12-22  \n",
      "4   [{'ticker': 'LMT', 'relevance_score': '0.27127...  2024-12-20  \n",
      "5   [{'ticker': 'MSFT', 'relevance_score': '0.1642...  2024-12-19  \n",
      "6   [{'ticker': 'CSCO', 'relevance_score': '0.1146...  2024-12-19  \n",
      "7   [{'ticker': 'QUBT', 'relevance_score': '0.3291...  2024-12-19  \n",
      "8   [{'ticker': 'CSCO', 'relevance_score': '0.0844...  2024-12-18  \n",
      "9   [{'ticker': 'AMD', 'relevance_score': '0.26682...  2024-12-14  \n",
      "10  [{'ticker': 'CTSH', 'relevance_score': '0.5157...  2024-12-13  \n",
      "11  [{'ticker': 'IBM', 'relevance_score': '0.62241...  2024-12-13  \n",
      "12  [{'ticker': 'NVDA', 'relevance_score': '0.0845...  2024-12-11  \n",
      "13  [{'ticker': 'PATH', 'relevance_score': '0.1564...  2024-12-11  \n",
      "14  [{'ticker': 'ZPTA', 'relevance_score': '0.1065...  2024-12-10  \n",
      "15  [{'ticker': 'IBM', 'relevance_score': '0.50464...  2024-12-09  \n",
      "16  [{'ticker': 'MSFT', 'relevance_score': '0.2322...  2024-12-09  \n",
      "17  [{'ticker': 'CSCO', 'relevance_score': '0.2478...  2024-12-04  \n",
      "18  [{'ticker': 'GOOG', 'relevance_score': '0.0761...  2024-12-04  \n",
      "19  [{'ticker': 'MSFT', 'relevance_score': '0.0957...  2024-12-04  \n",
      "20  [{'ticker': 'MSFT', 'relevance_score': '0.3440...  2024-12-02  \n",
      "21  [{'ticker': 'MSFT', 'relevance_score': '0.0424...  2024-12-02  \n",
      "22  [{'ticker': 'IBM', 'relevance_score': '0.53863...  2024-11-29  \n",
      "23  [{'ticker': 'RGTI', 'relevance_score': '0.5899...  2024-11-26  \n",
      "24  [{'ticker': 'MSFT', 'relevance_score': '0.1974...  2024-11-26  \n",
      "25  [{'ticker': 'MSFT', 'relevance_score': '0.1245...  2024-11-22  \n",
      "26  [{'ticker': 'MSFT', 'relevance_score': '0.0899...  2024-11-21  \n",
      "27  [{'ticker': 'IBM', 'relevance_score': '0.19581...  2024-11-21  \n",
      "28  [{'ticker': 'LNVGF', 'relevance_score': '0.045...  2024-11-20  \n",
      "29  [{'ticker': 'AMD', 'relevance_score': '0.64982...  2024-11-18  \n",
      "30  [{'ticker': 'NVDA', 'relevance_score': '0.0875...  2024-11-14  \n",
      "31  [{'ticker': 'DSGX', 'relevance_score': '0.0320...  2024-11-14  \n",
      "32  [{'ticker': 'TMUS', 'relevance_score': '0.2249...  2024-11-13  \n",
      "33  [{'ticker': 'T', 'relevance_score': '0.061159'...  2024-11-13  \n",
      "34  [{'ticker': 'MSFT', 'relevance_score': '0.0553...  2024-11-11  \n",
      "35  [{'ticker': 'MSFT', 'relevance_score': '0.1593...  2024-11-09  \n",
      "36  [{'ticker': 'RGTI', 'relevance_score': '0.4806...  2024-11-08  \n",
      "37  [{'ticker': 'GOOG', 'relevance_score': '0.1581...  2024-11-08  \n",
      "38  [{'ticker': 'MSFT', 'relevance_score': '0.2833...  2024-11-05  \n",
      "39  [{'ticker': 'GOOG', 'relevance_score': '0.0309...  2024-11-04  \n",
      "40  [{'ticker': 'DSGR', 'relevance_score': '0.0217...  2024-10-31  \n",
      "41  [{'ticker': 'TMUS', 'relevance_score': '0.1271...  2024-10-31  \n",
      "42  [{'ticker': 'KD', 'relevance_score': '0.054732...  2024-10-29  \n",
      "43  [{'ticker': 'MSFT', 'relevance_score': '0.0955...  2024-10-28  \n",
      "44  [{'ticker': 'IVZ', 'relevance_score': '0.18296...  2024-10-28  \n",
      "45  [{'ticker': 'IBM', 'relevance_score': '0.38887...  2024-10-27  \n",
      "46  [{'ticker': 'BB', 'relevance_score': '0.207571...  2024-10-25  \n",
      "47  [{'ticker': 'IBM', 'relevance_score': '0.63548...  2024-10-25  \n",
      "48  [{'ticker': 'AMD', 'relevance_score': '0.08059...  2024-10-25  \n",
      "49  [{'ticker': 'IBM', 'relevance_score': '0.41286...  2024-10-25  \n"
     ]
    }
   ],
   "source": [
    "from textblob import TextBlob\n",
    "rows = len(df_sentiments.iloc[:,0])\n",
    "columns = ['title', 'summary', 'overall_sentiment_label']\n",
    "df_TB_sentiments = df_sentiments.copy()\n",
    "for column in columns:\n",
    "    for row in range(0, rows):\n",
    "        df_TB_sentiments.loc[row, column] = TextBlob(df_TB_sentiments.loc[row, column]).sentiment.polarity\n",
    "\n",
    "print(df_TB_sentiments)"
   ]
  },
  {
   "cell_type": "code",
   "execution_count": 156,
   "metadata": {},
   "outputs": [
    {
     "name": "stdout",
     "output_type": "stream",
     "text": [
      "    title  summary  overall_sentiment_score  overall_sentiment_label  \\\n",
      "0  0.2023   0.2716                 0.208344                      0.0   \n",
      "1 -0.3818   0.7003                 0.437569                      0.0   \n",
      "2  0.2023   0.7650                 0.343692                      0.0   \n",
      "3  0.4767   0.4215                 0.248196                      0.0   \n",
      "4  0.8316   0.4767                 0.271068                      0.0   \n",
      "\n",
      "                                    ticker_sentiment        Date  \n",
      "0  [{'ticker': 'GOOG', 'relevance_score': '0.1400...  2024-12-24  \n",
      "1  [{'ticker': 'MSFT', 'relevance_score': '0.1241...  2024-12-23  \n",
      "2  [{'ticker': 'MSFT', 'relevance_score': '0.1667...  2024-12-22  \n",
      "3  [{'ticker': 'MSFT', 'relevance_score': '0.1024...  2024-12-22  \n",
      "4  [{'ticker': 'LMT', 'relevance_score': '0.27127...  2024-12-20  \n"
     ]
    }
   ],
   "source": [
    "from vaderSentiment.vaderSentiment import SentimentIntensityAnalyzer\n",
    "\n",
    "df_vader_sentiments = df_sentiments.copy()\n",
    "columns = ['title', 'summary', 'overall_sentiment_label']\n",
    "analyzer = SentimentIntensityAnalyzer()\n",
    "for column in columns:\n",
    "    df_vader_sentiments[column] = df_vader_sentiments[column].apply(lambda x: analyzer.polarity_scores(x)['compound'])\n",
    "print(df_vader_sentiments.head())\n"
   ]
  },
  {
   "cell_type": "code",
   "execution_count": 157,
   "metadata": {},
   "outputs": [],
   "source": [
    "df_TB_sentiments.drop(df_TB_sentiments.columns[[3, 4]], axis = 1, inplace = True)\n",
    "df_vader_sentiments.drop(df_vader_sentiments.columns[[3, 4]], axis = 1, inplace = True)"
   ]
  },
  {
   "cell_type": "code",
   "execution_count": 158,
   "metadata": {},
   "outputs": [
    {
     "name": "stdout",
     "output_type": "stream",
     "text": [
      "1\n"
     ]
    }
   ],
   "source": [
    "import json\n",
    "\n",
    "with open('ticker_sentiments.json', 'w') as file:\n",
    "    json.dump(df_sentiments['ticker_sentiment'][0], file, indent = 4)\n",
    "print('1')"
   ]
  },
  {
   "cell_type": "code",
   "execution_count": 159,
   "metadata": {},
   "outputs": [
    {
     "name": "stdout",
     "output_type": "stream",
     "text": [
      "  ticker  relevance_score  ticker_sentiment_score ticker_sentiment_label\n",
      "0   GOOG         0.140076                0.185753       Somewhat-Bullish\n",
      "1    IBM         0.668247                0.388151                Bullish\n"
     ]
    }
   ],
   "source": [
    "\n",
    "filePath = r\"C:\\Users\\ty725\\OneDrive\\Documents\\Winter Project\\ticker_sentiments.json\"\n",
    "df_ticker_sentiments = pd.read_json(filePath)\n",
    "print(df_ticker_sentiments)"
   ]
  },
  {
   "cell_type": "markdown",
   "metadata": {},
   "source": [
    "I figured this out kind of, just not sure how to incorporate this into my data. I will look into this in the future but for now we'll leave it. Will also figure out finlight api later"
   ]
  },
  {
   "cell_type": "code",
   "execution_count": 54,
   "metadata": {},
   "outputs": [
    {
     "name": "stdout",
     "output_type": "stream",
     "text": [
      "       timestamp    open      high       low   close   volume\n",
      "6335  1999-11-01   42.63   42.9700   42.4100   42.44   230800\n",
      "6334  1999-11-02   42.44   42.9400   42.1400   42.25   156300\n",
      "6333  1999-11-03   42.88   43.1300   42.6300   42.88   209200\n",
      "6332  1999-11-04   43.44   43.4700   42.9100   43.20   409100\n",
      "6331  1999-11-05   44.25   44.2500   43.4700   43.67   898000\n",
      "...          ...     ...       ...       ...     ...      ...\n",
      "4     2024-12-31  235.11  235.2700  231.7600  232.52  4690615\n",
      "3     2025-01-02  234.36  235.0200  229.7801  231.97  6385156\n",
      "2     2025-01-03  233.39  235.9999  232.9300  235.75  4560565\n",
      "1     2025-01-06  238.44  241.0620  237.8100  238.75  4487661\n",
      "0     2025-01-07  240.00  240.0000  233.1400  233.96  5003649\n",
      "\n",
      "[6336 rows x 6 columns]\n"
     ]
    }
   ],
   "source": [
    "SectorTicker = {'COMMUNICATION SERVICES': 'XLC',\n",
    "              'CONSUMER DISCRETIONARY': 'XLY',\n",
    "              'CONSUMER STAPLES': 'XLP',\n",
    "              'ENERGY': 'XLE',\n",
    "              'FINANCIALS': 'XLF',\n",
    "              'HEALTHCARE': 'XLV',\n",
    "              'INDUSTRIALS': 'XLI',\n",
    "              'MATERIALS': 'XLB',\n",
    "              'REAL ESTATE': 'XLRE',\n",
    "              'TECHNOLOGY': 'XLK',\n",
    "              'UTILITIES': 'XLU'}\n",
    "\n",
    "url = f'https://www.alphavantage.co/query?function=OVERVIEW&symbol={symbol}&apikey={apikey}'\n",
    "r = requests.get(url)\n",
    "sectorName = r.json()['Sector']\n",
    "sectorSymbol = SectorTicker[sectorName]\n",
    "\n",
    "url = f'https://www.alphavantage.co/query?function=TIME_SERIES_DAILY&symbol={sectorSymbol}&apikey={apikey}&datatype=csv&outputsize=full'\n",
    "df_sector = pd.read_csv(url)\n",
    "df_sector.sort_values(by = 'timestamp', inplace = True)\n",
    "print(df_sector)\n",
    "\n"
   ]
  },
  {
   "cell_type": "markdown",
   "metadata": {},
   "source": [
    "# More Data Cleaning\n",
    "Just to make sure"
   ]
  },
  {
   "cell_type": "code",
   "execution_count": 193,
   "metadata": {},
   "outputs": [
    {
     "name": "stdout",
     "output_type": "stream",
     "text": [
      "Date                           datetime64[ns]\n",
      "Open                                  float32\n",
      "High                                  float32\n",
      "Low                                   float32\n",
      "Close                                 float32\n",
      "Volume                                  int32\n",
      "SMA_10                                float64\n",
      "SMA_50                                float64\n",
      "SMA_100                               float64\n",
      "SMA_200                               float64\n",
      "EMA_10                                float64\n",
      "EMA_50                                float64\n",
      "EMA_100                               float64\n",
      "EMA_200                               float64\n",
      "RSI                                   float64\n",
      "MACD                                  float64\n",
      "MACD_signal                           float64\n",
      "Stochastic                            float64\n",
      "Bollinger_High                        float64\n",
      "Bollinger_Low                         float64\n",
      "ATR                                   float64\n",
      "OBV                                     int64\n",
      "Chaikin                               float64\n",
      "ADX                                   float64\n",
      "SAR_Down                              float64\n",
      "SAR_Up                                float64\n",
      "MA_Crossover                          float64\n",
      "BB_Width                              float64\n",
      "Lag 1                                 float32\n",
      "7 Day Avg                             float64\n",
      "Daily Returns                         float32\n",
      "Price to Volume Ratio                 float64\n",
      "Day of the Week                         int32\n",
      "Quarter                                 int32\n",
      "Daily Return                          float32\n",
      "Volatility                            float32\n",
      "Price Volume Interaction              float64\n",
      "RSI * Volume                          float64\n",
      "MACD / Bollinger Band Width           float64\n",
      "dtype: object\n"
     ]
    }
   ],
   "source": [
    "print(df.dtypes)\n"
   ]
  },
  {
   "cell_type": "code",
   "execution_count": 194,
   "metadata": {},
   "outputs": [],
   "source": [
    "columns = list(df.columns)\n",
    "for column in columns:\n",
    "    df[column] = df[column].bfill()"
   ]
  },
  {
   "cell_type": "code",
   "execution_count": 173,
   "metadata": {},
   "outputs": [
    {
     "name": "stdout",
     "output_type": "stream",
     "text": [
      "fiscalDateEnding    datetime64[ns]\n",
      "reportedEPS                float32\n",
      "dtype: object\n"
     ]
    }
   ],
   "source": [
    "column = df_annual_earnings.columns[1] \n",
    "df_annual_earnings[column] = pd.to_numeric(df_annual_earnings[column], downcast='float')\n",
    "\n",
    "column = df_annual_earnings.columns[0]\n",
    "df_annual_earnings[column] = pd.to_datetime(df_annual_earnings[column])\n",
    "print(df_annual_earnings.dtypes)\n"
   ]
  },
  {
   "cell_type": "code",
   "execution_count": 135,
   "metadata": {},
   "outputs": [
    {
     "name": "stdout",
     "output_type": "stream",
     "text": [
      "timestamp    datetime64[ns]\n",
      "value               float32\n",
      "dtype: object\n"
     ]
    }
   ],
   "source": [
    "column = df_commodities.columns[0]\n",
    "df_commodities[column] = pd.to_datetime(df_commodities[column])\n",
    "\n",
    "column = df_commodities.columns[1] \n",
    "df_commodities[column] = pd.to_numeric(df_commodities[column], errors='coerce', downcast='float')\n",
    "print(df_commodities.dtypes)\n",
    "df_commodities.dropna(inplace=True)\n"
   ]
  },
  {
   "cell_type": "code",
   "execution_count": 136,
   "metadata": {},
   "outputs": [
    {
     "name": "stdout",
     "output_type": "stream",
     "text": [
      "ex_dividend_date    datetime64[ns]\n",
      "amount                     float32\n",
      "dtype: object\n"
     ]
    }
   ],
   "source": [
    "print(df_div.dtypes)"
   ]
  },
  {
   "cell_type": "code",
   "execution_count": 137,
   "metadata": {},
   "outputs": [
    {
     "name": "stdout",
     "output_type": "stream",
     "text": [
      "timestamp    datetime64[ns]\n",
      "value               float64\n",
      "dtype: object\n"
     ]
    }
   ],
   "source": [
    "column = df_fed.columns[0]\n",
    "df_fed[column] = pd.to_datetime(df_fed[column])\n",
    "print(df_fed.dtypes)"
   ]
  },
  {
   "cell_type": "code",
   "execution_count": 143,
   "metadata": {},
   "outputs": [
    {
     "name": "stdout",
     "output_type": "stream",
     "text": [
      "timestamp    datetime64[ns]\n",
      "value               float64\n",
      "dtype: object\n"
     ]
    }
   ],
   "source": [
    "column = df_inflation.columns[0]\n",
    "df_inflation[column] = pd.to_datetime(df_inflation[column])\n",
    "print(df_inflation.dtypes)"
   ]
  },
  {
   "cell_type": "code",
   "execution_count": 174,
   "metadata": {},
   "outputs": [],
   "source": [
    "df_quarterly_earnings.drop(columns='fiscalDateEnding', inplace=True)"
   ]
  },
  {
   "cell_type": "code",
   "execution_count": 175,
   "metadata": {},
   "outputs": [
    {
     "name": "stdout",
     "output_type": "stream",
     "text": [
      "reportedDate          datetime64[ns]\n",
      "reportedEPS                  float32\n",
      "estimatedEPS                 float32\n",
      "surprise                     float32\n",
      "surprisePercentage           float32\n",
      "reportTime                      int8\n",
      "dtype: object\n"
     ]
    }
   ],
   "source": [
    "column = df_quarterly_earnings.columns[0]\n",
    "df_quarterly_earnings[column] = pd.to_datetime(df_quarterly_earnings[column])\n",
    "\n",
    "columns = list(df_quarterly_earnings.columns)\n",
    "\n",
    "for num in range(1, len(columns) - 1):\n",
    "    df_quarterly_earnings[columns[num]] = pd.to_numeric(df_quarterly_earnings[columns[num]], downcast='float')\n",
    "df_quarterly_earnings['reportTime'] = df_quarterly_earnings['reportTime'].apply(lambda x: 1 if x == 'post-market' else -1 if x == 'pre-market' else 0)\n",
    "df_quarterly_earnings['reportTime'] = pd.to_numeric(df_quarterly_earnings['reportTime'], downcast='integer')\n",
    "print(df_quarterly_earnings.dtypes)"
   ]
  },
  {
   "cell_type": "code",
   "execution_count": 144,
   "metadata": {},
   "outputs": [
    {
     "name": "stdout",
     "output_type": "stream",
     "text": [
      "timestamp     object\n",
      "open         float64\n",
      "high         float64\n",
      "low          float64\n",
      "close        float64\n",
      "volume         int64\n",
      "dtype: object\n"
     ]
    }
   ],
   "source": [
    "print(df_sector.dtypes)"
   ]
  },
  {
   "cell_type": "code",
   "execution_count": 145,
   "metadata": {},
   "outputs": [
    {
     "name": "stdout",
     "output_type": "stream",
     "text": [
      "effective_date    datetime64[ns]\n",
      "split_factor             float32\n",
      "dtype: object\n"
     ]
    }
   ],
   "source": [
    "print(df_split.dtypes)"
   ]
  },
  {
   "cell_type": "code",
   "execution_count": 160,
   "metadata": {},
   "outputs": [
    {
     "name": "stdout",
     "output_type": "stream",
     "text": [
      "overall_sentiment_score    float64\n",
      "Date                        object\n",
      "dtype: object\n"
     ]
    }
   ],
   "source": [
    "df_TB_sentiments.drop(df_TB_sentiments.columns[[0, 1]], axis = 1, inplace=True)\n",
    "print(df_TB_sentiments.dtypes)"
   ]
  },
  {
   "cell_type": "code",
   "execution_count": 162,
   "metadata": {},
   "outputs": [],
   "source": [
    "column = df_TB_sentiments.columns[1]\n",
    "df_TB_sentiments[column] = pd.to_datetime(df_TB_sentiments[column])\n"
   ]
  },
  {
   "cell_type": "code",
   "execution_count": 164,
   "metadata": {},
   "outputs": [
    {
     "name": "stdout",
     "output_type": "stream",
     "text": [
      "timestamp    datetime64[ns]\n",
      "value               float64\n",
      "dtype: object\n"
     ]
    }
   ],
   "source": [
    "column = df_unemployment.columns[0]\n",
    "df_unemployment[column] = pd.to_datetime(df_unemployment[column])\n",
    "print(df_unemployment.dtypes)"
   ]
  },
  {
   "cell_type": "code",
   "execution_count": null,
   "metadata": {},
   "outputs": [],
   "source": [
    "df_vader_sentiments.drop(df_vader_sentiments.columns[0], axis = 1, inplace=True)"
   ]
  },
  {
   "cell_type": "code",
   "execution_count": 168,
   "metadata": {},
   "outputs": [
    {
     "name": "stdout",
     "output_type": "stream",
     "text": [
      "summary                           float64\n",
      "overall_sentiment_score           float64\n",
      "Date                       datetime64[ns]\n",
      "dtype: object\n"
     ]
    }
   ],
   "source": [
    "df_vader_sentiments['Date'] = pd.to_datetime(df_vader_sentiments['Date'])\n",
    "print(df_vader_sentiments.dtypes)"
   ]
  },
  {
   "cell_type": "markdown",
   "metadata": {},
   "source": [
    "I dont think the textblob/vader experiment worked. The data looks a bit off so we're just going to stick with the overall sentiment score directly from the API."
   ]
  },
  {
   "cell_type": "code",
   "execution_count": 170,
   "metadata": {},
   "outputs": [
    {
     "name": "stdout",
     "output_type": "stream",
     "text": [
      "   overall_sentiment_score        Date\n",
      "0                 0.208344  2024-12-24\n",
      "1                 0.437569  2024-12-23\n",
      "2                 0.343692  2024-12-22\n",
      "3                 0.248196  2024-12-22\n",
      "4                 0.271068  2024-12-20\n"
     ]
    }
   ],
   "source": [
    "df_overall_sentiments = df_sentiments.copy()\n",
    "columns = [0, 1, 3, 4]\n",
    "df_overall_sentiments.drop(df_overall_sentiments.columns[columns], axis = 1, inplace=True)\n",
    "print(df_overall_sentiments.head())"
   ]
  },
  {
   "cell_type": "code",
   "execution_count": 209,
   "metadata": {},
   "outputs": [],
   "source": [
    "date = 'Date'\n",
    "df_annual_earnings.rename(columns = {'fiscalDateEnding': date, 'reportedEPS': 'AnnualEarnings'}, errors='ignore', inplace = True)\n",
    "df_commodities.rename(columns={'timestamp': date, 'value': 'Commodities_Index'}, errors='ignore', inplace=True)\n",
    "df_div.rename(columns = {'ex_dividend_date': date, 'amount':'Dividend'}, errors='ignore', inplace = True)\n",
    "df_fed.rename(columns = {'timestamp': date, 'value':'Fed_Rate'}, errors='ignore', inplace=True)\n",
    "df_inflation.rename(columns = {'timestamp': date, 'value':'Inflation'}, errors='ignore', inplace=True)\n",
    "df_quarterly_earnings.rename(columns = {'reportedDate': date, 'reportedEPS': 'QuarterEarnings', 'estimatedEPS': 'EstimatedQuarterEarnings', 'surprise': 'QuarterSurprise', 'surprisePercentage': 'QuarterSurprisePercentage', 'reportTime': 'QuarterReportTime'}, errors='ignore', inplace = True)\n",
    "df_sector.rename(columns = {'timestamp': date, 'open': 'SectorOpen', 'high':'SectorHigh', 'low':'SectorLow', 'close': 'SectorClose', 'volume':'SectorVolume'}, errors='ignore', inplace = True)\n",
    "df_split.rename(columns = {'effective_date': date}, errors='ignore', inplace = True)\n",
    "df_unemployment.rename(columns = {'timestamp': date, 'value':'UnemploymentRate'}, errors='ignore', inplace = True)\n"
   ]
  },
  {
   "cell_type": "markdown",
   "metadata": {},
   "source": [
    "# More Date Loading "
   ]
  },
  {
   "cell_type": "code",
   "execution_count": 179,
   "metadata": {},
   "outputs": [
    {
     "name": "stdout",
     "output_type": "stream",
     "text": [
      "Collecting sqlalchemy\n",
      "  Using cached SQLAlchemy-2.0.36-cp312-cp312-win_amd64.whl.metadata (9.9 kB)\n",
      "Collecting typing-extensions>=4.6.0 (from sqlalchemy)\n",
      "  Using cached typing_extensions-4.12.2-py3-none-any.whl.metadata (3.0 kB)\n",
      "Collecting greenlet!=0.4.17 (from sqlalchemy)\n",
      "  Using cached greenlet-3.1.1-cp312-cp312-win_amd64.whl.metadata (3.9 kB)\n",
      "Using cached SQLAlchemy-2.0.36-cp312-cp312-win_amd64.whl (2.1 MB)\n",
      "Using cached greenlet-3.1.1-cp312-cp312-win_amd64.whl (299 kB)\n",
      "Using cached typing_extensions-4.12.2-py3-none-any.whl (37 kB)\n",
      "Installing collected packages: typing-extensions, greenlet, sqlalchemy\n",
      "Successfully installed greenlet-3.1.1 sqlalchemy-2.0.36 typing-extensions-4.12.2\n",
      "Note: you may need to restart the kernel to use updated packages.\n"
     ]
    }
   ],
   "source": [
    "%pip install sqlalchemy"
   ]
  },
  {
   "cell_type": "code",
   "execution_count": 213,
   "metadata": {},
   "outputs": [
    {
     "name": "stdout",
     "output_type": "stream",
     "text": [
      "Data inserting is a success!\n"
     ]
    }
   ],
   "source": [
    "from sqlalchemy import create_engine\n",
    "server = 'dahomey.database.windows.net'\n",
    "database = 'Stock Data'\n",
    "username = 'ttshiamala'\n",
    "password = 'Bear8486!?'\n",
    "driver = '{ODBC Driver 18 for SQL Server}'\n",
    "\n",
    "# Connect to Azure SQL\n",
    "connection_string = f\"DRIVER={driver};SERVER={server};PORT=1433;DATABASE={database};UID={username};PWD={password}\"\n",
    "conn = pyodbc.connect(connection_string)\n",
    "\n",
    "engine = create_engine('mssql+pyodbc://', creator=lambda: conn)\n",
    "df.to_sql('Stock', engine, if_exists = 'replace', index=False)\n",
    "\n",
    "print('Data inserting is a success!')"
   ]
  },
  {
   "cell_type": "code",
   "execution_count": 215,
   "metadata": {},
   "outputs": [],
   "source": [
    "conn.close()"
   ]
  },
  {
   "cell_type": "code",
   "execution_count": 214,
   "metadata": {},
   "outputs": [],
   "source": [
    "list_df = [df_annual_earnings, df_commodities, df_div, df_fed, df_inflation, df_overall_sentiments, df_quarterly_earnings, df_sector, df_split, df_unemployment]\n",
    "list_tables = ['AnnualEarnings', 'Commodities', 'Dividends', 'FederalFundsRate', 'Inflation', 'Sentiments', 'QuarterlyEarnings', 'SectorPrices', 'Split', 'Unemployment']\n",
    "\n",
    "conn = pyodbc.connect(connection_string)\n",
    "engine = create_engine('mssql+pyodbc://', creator=lambda: conn)\n",
    "for i, dataFrame in enumerate(list_df):\n",
    "    dataFrame.to_sql(list_tables[i], engine, if_exists = 'replace', index=False)"
   ]
  }
 ],
 "metadata": {
  "kernelspec": {
   "display_name": ".venv",
   "language": "python",
   "name": "python3"
  },
  "language_info": {
   "codemirror_mode": {
    "name": "ipython",
    "version": 3
   },
   "file_extension": ".py",
   "mimetype": "text/x-python",
   "name": "python",
   "nbconvert_exporter": "python",
   "pygments_lexer": "ipython3",
   "version": "3.12.4"
  }
 },
 "nbformat": 4,
 "nbformat_minor": 2
}
